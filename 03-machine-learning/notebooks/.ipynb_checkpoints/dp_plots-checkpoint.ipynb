{
 "cells": [
  {
   "cell_type": "markdown",
   "metadata": {},
   "source": [
    "This notebook is based on the examples in https://github.com/fonnesbeck/Bios8366/blob/master/notebooks/Section5_2-Dirichlet-Processes.ipynb."
   ]
  },
  {
   "cell_type": "code",
   "execution_count": 117,
   "metadata": {
    "collapsed": true
   },
   "outputs": [],
   "source": [
    "%matplotlib inline\n",
    "\n",
    "import matplotlib\n",
    "import numpy as np\n",
    "import matplotlib.pyplot as plt\n",
    "from numpy.random import *"
   ]
  },
  {
   "cell_type": "markdown",
   "metadata": {},
   "source": [
    "## Stick-breaking Process\n",
    "\n",
    "A generative approach for allocating observations to groups is the stick-breaking process, which involves breaking the support of a particular variable into $k$ disjoint segments. Here, we start with a \"stick\" of unit length. To \"break\" the stick, we generate random points along the stick via the following algorithm:\n",
    "\n",
    "1. generate a random variable $\\beta_1 \\sim Beta(1, \\alpha_0)$\n",
    "2. use this random variable (which is on the unit interval) to define a break point on the stick\n",
    "3. iterate $k-1$ times:\n",
    "    - generate $\\beta_i \\sim Beta(1, \\alpha_0)$\n",
    "    - identify next break point at $\\pi_i = \\beta_i \\prod_{j=1}^{i-1} (1-\\beta_j)$ (which is on the part of the stick that remains after the previous break)"
   ]
  },
  {
   "cell_type": "markdown",
   "metadata": {},
   "source": [
    "This results in the creation of $k$ \"pieces\". Associated with each piece is a probability that is proportional to its length; these $k$ probabilities will have a Dirichlet distribution -- thus, the DP is a distribution over distributions. \n",
    "\n",
    "This process defines an **exchangeable** distribution on partitions of the stick; though there is an order to the generation of the segments, the distribution is independent of order.\n",
    "\n",
    "Notice that $k$ can be infinite, making $G$ an infinite mixture."
   ]
  },
  {
   "cell_type": "code",
   "execution_count": 4,
   "metadata": {
    "collapsed": true
   },
   "outputs": [],
   "source": [
    "def stick_breaking(alpha, k):\n",
    "    betas = beta(1, alpha, k)\n",
    "    remaining_pieces = np.append(1, np.cumprod(1 - betas[:-1]))\n",
    "    p = betas * remaining_pieces\n",
    "    return p/p.sum()"
   ]
  },
  {
   "cell_type": "code",
   "execution_count": 153,
   "metadata": {
    "collapsed": true
   },
   "outputs": [],
   "source": [
    "def get_text_positions(x_data, y_data, txt_width, txt_height):\n",
    "    a = zip(y_data, x_data)\n",
    "    text_positions = y_data.copy()\n",
    "    for index, (y, x) in enumerate(a):\n",
    "        local_text_positions = [i for i in a if i[0] > (y - txt_height) \n",
    "                            and (abs(i[1] - x) < txt_width * 2) and i != (y,x)]\n",
    "        if local_text_positions:\n",
    "            sorted_ltp = sorted(local_text_positions)\n",
    "            if abs(sorted_ltp[0][0] - y) < txt_height: #True == collision\n",
    "                differ = np.diff(sorted_ltp, axis=0)\n",
    "                a[index] = (sorted_ltp[-1][0] + txt_height, a[index][1])\n",
    "                text_positions[index] = sorted_ltp[-1][0] + txt_height\n",
    "                for k, (j, m) in enumerate(differ):\n",
    "                    #j is the vertical distance between words\n",
    "                    if j > txt_height * 2: #if True then room to fit a word in\n",
    "                        a[index] = (sorted_ltp[k][0] + txt_height, a[index][1])\n",
    "                        text_positions[index] = sorted_ltp[k][0] + txt_height\n",
    "                        break\n",
    "    return text_positions\n",
    "\n",
    "def text_plotter(x_data, y_data, text_positions, axis,txt_width,txt_height):\n",
    "    for x,y,t in zip(x_data, y_data, text_positions):\n",
    "        axis.text(x - txt_width, 1.01*t, '%d'%int(y), rotation=0, color='blue', fontsize=14)\n",
    "        if y != t:\n",
    "            axis.arrow(x, t,0,y-t, color='red',alpha=0.3, width=txt_width*0.1, \n",
    "                       head_width=txt_width, head_length=txt_height*0.5, \n",
    "                       zorder=0,length_includes_head=True)"
   ]
  },
  {
   "cell_type": "code",
   "execution_count": 154,
   "metadata": {
    "collapsed": true
   },
   "outputs": [],
   "source": [
    "def plot_dp(k, alpha, mu, sigma):\n",
    "    \n",
    "    fig, axes = plt.subplots(1, 4, sharex=True, sharey=True, figsize=(12,4))\n",
    "    for ax in np.ravel(axes):\n",
    "\n",
    "        theta = np.random.normal(mu, sigma, k)\n",
    "        p = stick_breaking(alpha, k)\n",
    "        x = np.random.multinomial(k, p)\n",
    "        dp = theta[x]\n",
    "\n",
    "        x = set(dp)\n",
    "        f = [(dp==i).sum() for i in x]\n",
    "        ax.bar(x, f, width=0.00001)\n",
    "        x_data = np.array(list(x))\n",
    "        y_data = np.array(f)\n",
    "        print x_data\n",
    "        print y_data\n",
    "        txt_height = 0.06*(ax.get_ylim()[1] - ax.get_ylim()[0])\n",
    "        txt_width = 0.04*(ax.get_xlim()[1] - ax.get_xlim()[0])\n",
    "        text_positions = get_text_positions(x_data, y_data, txt_width, txt_height)\n",
    "        text_plotter(x_data, y_data, text_positions, ax, txt_width, txt_height)\n",
    "\n",
    "        ax.set_ylim([0, 110])\n",
    "        ax.set_xlim([-2, 2])\n",
    "                \n",
    "    plt.tight_layout()"
   ]
  },
  {
   "cell_type": "code",
   "execution_count": 155,
   "metadata": {
    "collapsed": false,
    "scrolled": true
   },
   "outputs": [
    {
     "name": "stdout",
     "output_type": "stream",
     "text": [
      "[-0.05487979 -0.86065255 -0.83907233 -0.64872992 -1.63272633  1.6605029\n",
      "  0.63632358]\n",
      "[ 1  2 93  1  1  1  1]\n",
      "[-0.6269632  -1.18919362 -0.59491518  0.50399469]\n",
      "[ 1  1 97  1]\n",
      "[ 2.46033841 -0.79213176  0.60723818 -0.46208041]\n",
      "[97  1  1  1]\n",
      "[ 0.09398686  1.17293081  0.40534018 -0.60708071 -0.72862796  0.85091413\n",
      "  0.96724786]\n",
      "[94  1  1  1  1  1  1]\n"
     ]
    },
    {
     "data": {
      "image/png": "[encoded data removed]",
      "text/plain": [
       "<matplotlib.figure.Figure at 0x10b5abe10>"
      ]
     },
     "metadata": {},
     "output_type": "display_data"
    }
   ],
   "source": [
    "plot_dp(100, 1, 0, 1)"
   ]
  },
  {
   "cell_type": "code",
   "execution_count": 146,
   "metadata": {
    "collapsed": false
   },
   "outputs": [
    {
     "name": "stdout",
     "output_type": "stream",
     "text": [
      "[ 0.03884513 -1.00318878  0.31695503 -1.53559693 -1.10722287  0.60421\n",
      "  0.65570189]\n",
      "[ 4 12  3  2 30  2 47]\n",
      "[-0.39934544  1.11398801 -0.40288088  0.88649759  0.89275372 -1.10131028]\n",
      "[ 1  3 18  5 30 43]\n",
      "[-0.64062403  0.07125142 -1.42090919 -0.30224838 -0.59791298 -0.59339244\n",
      "  0.75864502  0.35466768]\n",
      "[10  1 50 26  3  1  8  1]\n",
      "[-1.84339594  0.07314375 -0.32459167 -0.08850274  1.4197711   0.99002067]\n",
      "[ 9  2 19 13  4 53]\n"
     ]
    },
    {
     "data": {
      "image/png": "[encoded data removed]",
      "text/plain": [
       "<matplotlib.figure.Figure at 0x109313c50>"
      ]
     },
     "metadata": {},
     "output_type": "display_data"
    }
   ],
   "source": [
    "plot_dp(100, 1000, 0, 1)"
   ]
  },
  {
   "cell_type": "code",
   "execution_count": null,
   "metadata": {
    "collapsed": true
   },
   "outputs": [],
   "source": []
  }
 ],
 "metadata": {
  "kernelspec": {
   "display_name": "Python 2",
   "language": "python",
   "name": "python2"
  },
  "language_info": {
   "codemirror_mode": {
    "name": "ipython",
    "version": 2
   },
   "file_extension": ".py",
   "mimetype": "text/x-python",
   "name": "python",
   "nbconvert_exporter": "python",
   "pygments_lexer": "ipython2",
   "version": "2.7.11"
  }
 },
 "nbformat": 4,
 "nbformat_minor": 0
}
